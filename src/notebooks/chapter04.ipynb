{
 "cells": [
  {
   "cell_type": "markdown",
   "metadata": {},
   "source": [
    "import libraries"
   ]
  },
  {
   "cell_type": "code",
   "execution_count": 1,
   "metadata": {},
   "outputs": [],
   "source": [
    "from collections import Counter\n",
    "import csv\n",
    "import re\n",
    "\n",
    "from bs4 import BeautifulSoup\n",
    "import janome.tokenizer\n",
    "import janome.analyzer\n",
    "import janome.tokenfilter\n",
    "import MeCab\n",
    "from tensorflow.keras.preprocessing.sequence import pad_sequences"
   ]
  },
  {
   "cell_type": "markdown",
   "metadata": {},
   "source": [
    "# テキストの前処理"
   ]
  },
  {
   "cell_type": "markdown",
   "metadata": {},
   "source": [
    "## テキストのクリーニング"
   ]
  },
  {
   "cell_type": "code",
   "execution_count": 3,
   "metadata": {},
   "outputs": [
    {
     "name": "stdout",
     "output_type": "stream",
     "text": [
      "beautifulsoup4==4.9.0\n"
     ]
    }
   ],
   "source": [
    "!pip freeze | grep beautifulsoup4"
   ]
  },
  {
   "cell_type": "code",
   "execution_count": 4,
   "metadata": {},
   "outputs": [],
   "source": [
    "html = \\\n",
    "\"\"\"\n",
    "<html>\n",
    "  <body>\n",
    "    これは<a href=\"http://example.com\">Example</a>です。\n",
    "  </body>\n",
    "</html>\n",
    "\"\"\""
   ]
  },
  {
   "cell_type": "markdown",
   "metadata": {},
   "source": [
    "### remove html tags by BeautifulSoup"
   ]
  },
  {
   "cell_type": "code",
   "execution_count": 5,
   "metadata": {},
   "outputs": [],
   "source": [
    "def clean_html(html, strip=False):\n",
    "    soup = BeautifulSoup(html, \"html.parser\")\n",
    "    text = soup.get_text(strip=strip)\n",
    "    return text"
   ]
  },
  {
   "cell_type": "code",
   "execution_count": 6,
   "metadata": {},
   "outputs": [
    {
     "data": {
      "text/plain": [
       "'\\n\\n\\n    これはExampleです。\\n  \\n\\n'"
      ]
     },
     "execution_count": 6,
     "metadata": {},
     "output_type": "execute_result"
    }
   ],
   "source": [
    "clean_html(html)"
   ]
  },
  {
   "cell_type": "code",
   "execution_count": 7,
   "metadata": {},
   "outputs": [
    {
     "data": {
      "text/plain": [
       "'これはExampleです。'"
      ]
     },
     "execution_count": 7,
     "metadata": {},
     "output_type": "execute_result"
    }
   ],
   "source": [
    "clean_html(html, strip=True)"
   ]
  },
  {
   "cell_type": "markdown",
   "metadata": {},
   "source": [
    "### use Regular Expression; 正規表現\n",
    "- `r`という記号はraw stringとするためpre-fix(`\\`に意味を持たせない（`print(\\n)`などもそのまま`\\n`と出力される）)"
   ]
  },
  {
   "cell_type": "code",
   "execution_count": 8,
   "metadata": {},
   "outputs": [],
   "source": [
    "text = \"今度からMkDocsでドキュメント書こう。 #Python\""
   ]
  },
  {
   "cell_type": "code",
   "execution_count": 9,
   "metadata": {},
   "outputs": [],
   "source": [
    "def clean_hashtag(text):\n",
    "    # hash記号に続く一文字以上の文字列\n",
    "    cleaned_text = re.sub(r\"#[a-zA-Z]+\", \"\", text)\n",
    "    return cleaned_text"
   ]
  },
  {
   "cell_type": "code",
   "execution_count": 10,
   "metadata": {},
   "outputs": [
    {
     "data": {
      "text/plain": [
       "'今度からMkDocsでドキュメント書こう。 '"
      ]
     },
     "execution_count": 10,
     "metadata": {},
     "output_type": "execute_result"
    }
   ],
   "source": [
    "clean_hashtag(text)"
   ]
  },
  {
   "cell_type": "code",
   "execution_count": 11,
   "metadata": {},
   "outputs": [],
   "source": [
    "text = \"機械学習やるなら #Python がいいよね。 #jupyter\""
   ]
  },
  {
   "cell_type": "code",
   "execution_count": 12,
   "metadata": {},
   "outputs": [
    {
     "data": {
      "text/plain": [
       "'機械学習やるなら  がいいよね。 '"
      ]
     },
     "execution_count": 12,
     "metadata": {},
     "output_type": "execute_result"
    }
   ],
   "source": [
    "clean_hashtag(text)"
   ]
  },
  {
   "cell_type": "code",
   "execution_count": 13,
   "metadata": {},
   "outputs": [],
   "source": [
    "def clean_hashtag(text):\n",
    "    # 文末のhash記号は続く文字も除去、文中の場合はhash記号のみ除去\n",
    "    cleaned_text = re.sub(r\" #[a-zA-Z]+$\", \"\", text)\n",
    "    cleaned_text = re.sub(r\" #([a-zA-Z]+) \", r\"\\1\", cleaned_text)\n",
    "    return cleaned_text"
   ]
  },
  {
   "cell_type": "code",
   "execution_count": 14,
   "metadata": {},
   "outputs": [
    {
     "data": {
      "text/plain": [
       "'機械学習やるならPythonがいいよね。'"
      ]
     },
     "execution_count": 14,
     "metadata": {},
     "output_type": "execute_result"
    }
   ],
   "source": [
    "clean_hashtag(text)"
   ]
  },
  {
   "cell_type": "code",
   "execution_count": 15,
   "metadata": {},
   "outputs": [],
   "source": [
    "text = \"機械学習やるなら #Python がいいよね。 #jupyter #pycon #scipy\""
   ]
  },
  {
   "cell_type": "code",
   "execution_count": 16,
   "metadata": {},
   "outputs": [
    {
     "data": {
      "text/plain": [
       "'機械学習やるならPythonがいいよね。jupyter#pycon'"
      ]
     },
     "execution_count": 16,
     "metadata": {},
     "output_type": "execute_result"
    }
   ],
   "source": [
    "clean_hashtag(text)"
   ]
  },
  {
   "cell_type": "code",
   "execution_count": 17,
   "metadata": {},
   "outputs": [],
   "source": [
    "def clean_hashtag(text):\n",
    "    # 文末のhash記号は続く文字も除去、文中の場合はhash記号のみ除去、hash記号が連続する場合はそれらをまとめて除去\n",
    "    cleaned_text = re.sub(r\"( #[a-zA-Z]+)+$\", \"\", text)\n",
    "    cleaned_text = re.sub(r\" #([a-zA-Z]+) \", r\"\\1\", cleaned_text)\n",
    "    return cleaned_text"
   ]
  },
  {
   "cell_type": "code",
   "execution_count": 18,
   "metadata": {},
   "outputs": [
    {
     "data": {
      "text/plain": [
       "'機械学習やるならPythonがいいよね。'"
      ]
     },
     "execution_count": 18,
     "metadata": {},
     "output_type": "execute_result"
    }
   ],
   "source": [
    "clean_hashtag(text)"
   ]
  },
  {
   "cell_type": "markdown",
   "metadata": {},
   "source": [
    "## 単語の分割"
   ]
  },
  {
   "cell_type": "code",
   "execution_count": 2,
   "metadata": {},
   "outputs": [],
   "source": [
    "text = \"彼女と国立新美術館へ行った。\""
   ]
  },
  {
   "cell_type": "markdown",
   "metadata": {},
   "source": [
    "### in case use janome"
   ]
  },
  {
   "cell_type": "code",
   "execution_count": 20,
   "metadata": {},
   "outputs": [
    {
     "name": "stdout",
     "output_type": "stream",
     "text": [
      "彼女\t名詞,代名詞,一般,*,*,*,彼女,カノジョ,カノジョ\n",
      "と\t助詞,格助詞,一般,*,*,*,と,ト,ト\n",
      "国立\t名詞,一般,*,*,*,*,国立,コクリツ,コクリツ\n",
      "新\t接頭詞,名詞接続,*,*,*,*,新,シン,シン\n",
      "美術館\t名詞,一般,*,*,*,*,美術館,ビジュツカン,ビジュツカン\n",
      "へ\t助詞,格助詞,一般,*,*,*,へ,ヘ,エ\n",
      "行っ\t動詞,自立,*,*,五段・カ行促音便,連用タ接続,行く,イッ,イッ\n",
      "た\t助動詞,*,*,*,特殊・タ,基本形,た,タ,タ\n",
      "。\t記号,句点,*,*,*,*,。,。,。\n"
     ]
    }
   ],
   "source": [
    "# from janome.tokenizer import Tokenizer をしていれば Tokenizer() のみでおk、今回はモジュールを把握するためフルで記述している\n",
    "t = janome.tokenizer.Tokenizer()\n",
    "for token in t.tokenize(text):\n",
    "    print(token)"
   ]
  },
  {
   "cell_type": "code",
   "execution_count": 21,
   "metadata": {},
   "outputs": [
    {
     "data": {
      "text/plain": [
       "['彼女', 'と', '国立', '新', '美術館', 'へ', '行っ', 'た', '。']"
      ]
     },
     "execution_count": 21,
     "metadata": {},
     "output_type": "execute_result"
    }
   ],
   "source": [
    "t = janome.tokenizer.Tokenizer(wakati=True)\n",
    "t.tokenize(text)"
   ]
  },
  {
   "cell_type": "markdown",
   "metadata": {},
   "source": [
    "特定の瀕死の単語のみ抽出（フィルタリング）"
   ]
  },
  {
   "cell_type": "code",
   "execution_count": 22,
   "metadata": {},
   "outputs": [
    {
     "name": "stdout",
     "output_type": "stream",
     "text": [
      "彼女\t名詞,代名詞,一般,*,*,*,彼女,カノジョ,カノジョ\n",
      "国立\t名詞,一般,*,*,*,*,国立,コクリツ,コクリツ\n",
      "美術館\t名詞,一般,*,*,*,*,美術館,ビジュツカン,ビジュツカン\n"
     ]
    }
   ],
   "source": [
    "token_filters = [\n",
    "    janome.tokenfilter.POSKeepFilter(\"名詞\")\n",
    "]\n",
    "a = janome.analyzer.Analyzer(token_filters=token_filters)\n",
    "for token in a.analyze(text):\n",
    "    print(token)"
   ]
  },
  {
   "cell_type": "markdown",
   "metadata": {},
   "source": [
    "<u>**辞書への単語の追加（MeCabでも同様の手法で可能）**</u>  \n",
    "```\n",
    "表層形、左文脈ID、右文脈ID、コスト、品詞、品詞再分類1、品詞再分類2、品詞再分類3、活用型、活用形、原型、読み、発音\n",
    "```"
   ]
  },
  {
   "cell_type": "code",
   "execution_count": 23,
   "metadata": {},
   "outputs": [],
   "source": [
    "with open(\"data/chapter04_userdic.csv\", \"w\", encoding=\"utf-8\") as f:\n",
    "    userdic_word = [\n",
    "        [\"国立新美術館\", \"1288\", \"1288\", \"100\", \"名詞\", \"固有名詞\", \n",
    "         \"一般\", \"*\", \"*\", \"*\", \"国立新美術館\", \"コクリツシンビジュツカン\",\"コクリツシンビジュツカン\"\n",
    "        ]\n",
    "    ]\n",
    "    writer = csv.writer(f)\n",
    "    writer.writerows(userdic_word)"
   ]
  },
  {
   "cell_type": "code",
   "execution_count": 24,
   "metadata": {},
   "outputs": [
    {
     "name": "stdout",
     "output_type": "stream",
     "text": [
      "彼女\t名詞,代名詞,一般,*,*,*,彼女,カノジョ,カノジョ\n",
      "と\t助詞,並立助詞,*,*,*,*,と,ト,ト\n",
      "国立新美術館\t名詞,固有名詞,一般,*,*,*,国立新美術館,コクリツシンビジュツカン,コクリツシンビジュツカン\n",
      "へ\t助詞,格助詞,一般,*,*,*,へ,ヘ,エ\n",
      "行っ\t動詞,自立,*,*,五段・カ行促音便,連用タ接続,行く,イッ,イッ\n",
      "た\t助動詞,*,*,*,特殊・タ,基本形,た,タ,タ\n",
      "。\t記号,句点,*,*,*,*,。,。,。\n"
     ]
    }
   ],
   "source": [
    "t = janome.tokenizer.Tokenizer(udic=\"data/chapter04_userdic.csv\", udic_enc=\"utf8\")\n",
    "for token in t.tokenize(text):\n",
    "    print(token)"
   ]
  },
  {
   "cell_type": "markdown",
   "metadata": {},
   "source": [
    "### in case use MaCab"
   ]
  },
  {
   "cell_type": "code",
   "execution_count": 25,
   "metadata": {},
   "outputs": [
    {
     "name": "stdout",
     "output_type": "stream",
     "text": [
      "彼女\t名詞,代名詞,一般,*,*,*,彼女,カノジョ,カノジョ\n",
      "と\t助詞,格助詞,一般,*,*,*,と,ト,ト\n",
      "国立\t名詞,一般,*,*,*,*,国立,コクリツ,コクリツ\n",
      "新\t接頭詞,名詞接続,*,*,*,*,新,シン,シン\n",
      "美術館\t名詞,一般,*,*,*,*,美術館,ビジュツカン,ビジュツカン\n",
      "へ\t助詞,格助詞,一般,*,*,*,へ,ヘ,エ\n",
      "行っ\t動詞,自立,*,*,五段・カ行促音便,連用タ接続,行く,イッ,イッ\n",
      "た\t助動詞,*,*,*,特殊・タ,基本形,た,タ,タ\n",
      "。\t記号,句点,*,*,*,*,。,。,。\n",
      "EOS\n",
      "\n"
     ]
    }
   ],
   "source": [
    "t_mecab = MeCab.Tagger(\"\")\n",
    "print(t_mecab.parse(text))"
   ]
  },
  {
   "cell_type": "markdown",
   "metadata": {},
   "source": [
    "`mecab-ipadic-NEologd`を使用"
   ]
  },
  {
   "cell_type": "code",
   "execution_count": 3,
   "metadata": {},
   "outputs": [
    {
     "data": {
      "text/plain": [
       "['/usr/lib/x86_64-linux-gnu/mecab/dic/mecab-ipadic-neologd']"
      ]
     },
     "execution_count": 3,
     "metadata": {},
     "output_type": "execute_result"
    }
   ],
   "source": [
    "path_neologd = !echo `mecab-config --dicdir`\"/mecab-ipadic-neologd\"\n",
    "path_neologd"
   ]
  },
  {
   "cell_type": "code",
   "execution_count": 27,
   "metadata": {},
   "outputs": [
    {
     "name": "stdout",
     "output_type": "stream",
     "text": [
      "彼女\t名詞,代名詞,一般,*,*,*,彼女,カノジョ,カノジョ\n",
      "と\t助詞,並立助詞,*,*,*,*,と,ト,ト\n",
      "国立新美術館\t名詞,固有名詞,地域,一般,*,*,国立新美術館,コクリツシンビジュツカン,コクリツシンビジュツカン\n",
      "へ\t助詞,格助詞,一般,*,*,*,へ,ヘ,エ\n",
      "行っ\t動詞,自立,*,*,五段・カ行促音便,連用タ接続,行く,イッ,イッ\n",
      "た\t助動詞,*,*,*,特殊・タ,基本形,た,タ,タ\n",
      "。\t記号,句点,*,*,*,*,。,。,。\n",
      "EOS\n",
      "\n"
     ]
    }
   ],
   "source": [
    "t_mecab = MeCab.Tagger(\n",
    "    \"-d {}\".format(path_neologd[0])\n",
    ")\n",
    "print(t_mecab.parse(text))"
   ]
  },
  {
   "cell_type": "code",
   "execution_count": 22,
   "metadata": {},
   "outputs": [
    {
     "name": "stdout",
     "output_type": "stream",
     "text": [
      "彼女\t名詞,代名詞,一般,*,*,*,彼女,カノジョ,カノジョ\n",
      "と\t助詞,並立助詞,*,*,*,*,と,ト,ト\n",
      "国立新美術館\t名詞,固有名詞,地域,一般,*,*,国立新美術館,コクリツシンビジュツカン,コクリツシンビジュツカン\n",
      "へ\t助詞,格助詞,一般,*,*,*,へ,ヘ,エ\n",
      "行っ\t動詞,自立,*,*,五段・カ行促音便,連用タ接続,行く,イッ,イッ\n",
      "た\t助動詞,*,*,*,特殊・タ,基本形,た,タ,タ\n",
      "。\t記号,句点,*,*,*,*,。,。,。\n",
      "EOS\n",
      "\n"
     ]
    }
   ],
   "source": [
    "t_mecab = MeCab.Tagger(\n",
    "    \"-d {}\".format(path_neologd[0])\n",
    ")\n",
    "print(t_mecab.parse(text))"
   ]
  },
  {
   "cell_type": "code",
   "execution_count": 21,
   "metadata": {},
   "outputs": [
    {
     "name": "stdout",
     "output_type": "stream",
     "text": [
      "['彼女', 'と', '国立新美術館', 'へ', '行っ', 'た', '。']\n"
     ]
    }
   ],
   "source": [
    "t_mecab = MeCab.Tagger(\n",
    "    \"-Owakati && -d {}\".format(path_neologd[0])\n",
    ")\n",
    "print(list(t_mecab.parse(text).strip().split(\" \")))"
   ]
  },
  {
   "cell_type": "code",
   "execution_count": 28,
   "metadata": {},
   "outputs": [
    {
     "name": "stdout",
     "output_type": "stream",
     "text": [
      "彼女\n",
      "国立新美術館\n"
     ]
    }
   ],
   "source": [
    "#t_mecab.parse(\"\") # あってもなくても一緒\n",
    "m = t_mecab.parseToNode(text)\n",
    "\n",
    "while m:\n",
    "    if m.feature.split(',')[0] == '名詞':\n",
    "        print(m.surface)\n",
    "    m = m.next"
   ]
  },
  {
   "cell_type": "markdown",
   "metadata": {},
   "source": [
    "## 単語の正規化"
   ]
  },
  {
   "cell_type": "markdown",
   "metadata": {},
   "source": [
    "### 文字種の統一  \n",
    "- 小文字化 `lower()`\n",
    "- 大文字化 `upper()`\n",
    "- 先頭のみ大文字 `title()`"
   ]
  },
  {
   "cell_type": "code",
   "execution_count": 29,
   "metadata": {},
   "outputs": [
    {
     "name": "stdout",
     "output_type": "stream",
     "text": [
      "lower:  president obama is speaking at the white house.\n",
      "upper:  PRESIDENT OBAMA IS SPEAKING AT THE WHITE HOUSE.\n",
      "title:  President Obama Is Speaking At The White House.\n"
     ]
    }
   ],
   "source": [
    "text = \"President Obama is speaking at the White House.\"\n",
    "print(\"lower: \", text.lower())\n",
    "print(\"upper: \", text.upper())\n",
    "print(\"title: \", text.title())"
   ]
  },
  {
   "cell_type": "markdown",
   "metadata": {},
   "source": [
    "### 数字の置き換え\n",
    "数字を表す正規表現（厳密には、ひとつ以上の連続した数値）は`\\d+`"
   ]
  },
  {
   "cell_type": "code",
   "execution_count": 30,
   "metadata": {},
   "outputs": [
    {
     "name": "stdout",
     "output_type": "stream",
     "text": [
      "replace into one-zero:  0万0・0ドル\n",
      "          same length:  0万0000・00ドル\n"
     ]
    }
   ],
   "source": [
    "def normalize_number(text, same_length=False):\n",
    "    replaced_text = re.sub(r\"\\d\" if same_length else r\"\\d+\", \"0\", text)\n",
    "    return replaced_text\n",
    "\n",
    "text = \"2万0689・24ドル\"\n",
    "print(\"replace into one-zero: \", normalize_number(text))\n",
    "print(\"          same length: \", normalize_number(text, same_length=True))"
   ]
  },
  {
   "cell_type": "markdown",
   "metadata": {},
   "source": [
    "## ストップワードの除去\n",
    "出現頻度が高い割に自然言語処理には役に立たない言葉：「は」「が」「です」「ます」etc."
   ]
  },
  {
   "cell_type": "markdown",
   "metadata": {},
   "source": [
    "### 辞書による方式\n",
    "[Slothlib](http://svn.sourceforge.jp/svnroot/slothlib/CSharp/Version1/SlothLib/NLP/Filter/StopWord/word/Japanese.txt)を使用 -> `Japanese.txt`"
   ]
  },
  {
   "cell_type": "code",
   "execution_count": null,
   "metadata": {},
   "outputs": [],
   "source": [
    "!wget http://svn.sourceforge.jp/svnroot/slothlib/CSharp/Version1/SlothLib/NLP/Filter/StopWord/word/Japanese.txt -P data/"
   ]
  },
  {
   "cell_type": "code",
   "execution_count": 31,
   "metadata": {},
   "outputs": [],
   "source": [
    "with open(\"data/Japanese.txt\", \"r\", encoding=\"utf-8\") as f:\n",
    "    stopwords = [w.strip() for w in f] # remove \\n\n",
    "    stopwords = set(stopwords) # set array is faster than list one"
   ]
  },
  {
   "cell_type": "code",
   "execution_count": 32,
   "metadata": {},
   "outputs": [],
   "source": [
    "def remove_stopwords(words, stopwords):\n",
    "    words = [w for w in words if w not in stopwords]\n",
    "    return words"
   ]
  },
  {
   "cell_type": "code",
   "execution_count": 33,
   "metadata": {},
   "outputs": [
    {
     "name": "stdout",
     "output_type": "stream",
     "text": [
      "before remove stopwords:  ['りんご', 'を', 'いくつ', 'か', '買う', '。']\n",
      " after remove stopwords:  ['りんご', 'を', 'か', '買う', '。']\n"
     ]
    }
   ],
   "source": [
    "t = janome.tokenizer.Tokenizer(wakati=True)\n",
    "text = \"りんごをいくつか買う。\"\n",
    "words = t.tokenize(text)\n",
    "print(\"before remove stopwords: \", words)\n",
    "words = remove_stopwords(words, stopwords)\n",
    "print(\" after remove stopwords: \", words)"
   ]
  },
  {
   "cell_type": "markdown",
   "metadata": {},
   "source": [
    "### 出現頻度による方式\n",
    "頻度をカウントする対象のコーパスとして[ja.text8](https://s3-ap-northeast-1.amazonaws.com/dev.tech-sketch.jp/chakki/public/ja.text8.zip)を使用  \n",
    "（なお、教本でのURL誤植だった模様(正：`http://s3-ap-northeast-1.,,,`, 誤：`http://s3-apnortheast-1.,,,`)）"
   ]
  },
  {
   "cell_type": "code",
   "execution_count": null,
   "metadata": {},
   "outputs": [],
   "source": [
    "!wget https://s3-ap-northeast-1.amazonaws.com/dev.tech-sketch.jp/chakki/public/ja.text8.zip -P data/\n",
    "!find ./data -name \\*.zip -type f | sed 's#\\(.*\\)\\.zip#mv & \\1.gz#' | sh\n",
    "!gunzip -d data/ja.text8.gz"
   ]
  },
  {
   "cell_type": "code",
   "execution_count": 34,
   "metadata": {},
   "outputs": [],
   "source": [
    "with open(\"data/ja.text8\", \"r\", encoding=\"utf-8\") as f:\n",
    "    text = f.read()\n",
    "    words = text.split()"
   ]
  },
  {
   "cell_type": "markdown",
   "metadata": {},
   "source": [
    "、、、いやめちゃ重。メモリの使用量チェック。"
   ]
  },
  {
   "cell_type": "code",
   "execution_count": 35,
   "metadata": {
    "collapsed": true,
    "jupyter": {
     "outputs_hidden": true
    }
   },
   "outputs": [
    {
     "data": {
      "text/html": [
       "<div>\n",
       "<style scoped>\n",
       "    .dataframe tbody tr th:only-of-type {\n",
       "        vertical-align: middle;\n",
       "    }\n",
       "\n",
       "    .dataframe tbody tr th {\n",
       "        vertical-align: top;\n",
       "    }\n",
       "\n",
       "    .dataframe thead th {\n",
       "        text-align: right;\n",
       "    }\n",
       "</style>\n",
       "<table border=\"1\" class=\"dataframe\">\n",
       "  <thead>\n",
       "    <tr style=\"text-align: right;\">\n",
       "      <th></th>\n",
       "      <th>Variable Name</th>\n",
       "      <th>Memory</th>\n",
       "    </tr>\n",
       "  </thead>\n",
       "  <tbody>\n",
       "    <tr>\n",
       "      <th>0</th>\n",
       "      <td>text</td>\n",
       "      <td>186031248</td>\n",
       "    </tr>\n",
       "    <tr>\n",
       "      <th>1</th>\n",
       "      <td>words</td>\n",
       "      <td>139361088</td>\n",
       "    </tr>\n",
       "    <tr>\n",
       "      <th>2</th>\n",
       "      <td>stopwords</td>\n",
       "      <td>32992</td>\n",
       "    </tr>\n",
       "    <tr>\n",
       "      <th>3</th>\n",
       "      <td>memory_df</td>\n",
       "      <td>2088</td>\n",
       "    </tr>\n",
       "    <tr>\n",
       "      <th>4</th>\n",
       "      <td>BeautifulSoup</td>\n",
       "      <td>2000</td>\n",
       "    </tr>\n",
       "    <tr>\n",
       "      <th>5</th>\n",
       "      <td>Counter</td>\n",
       "      <td>1056</td>\n",
       "    </tr>\n",
       "    <tr>\n",
       "      <th>6</th>\n",
       "      <td>NamespaceMagics</td>\n",
       "      <td>888</td>\n",
       "    </tr>\n",
       "    <tr>\n",
       "      <th>7</th>\n",
       "      <td>Out</td>\n",
       "      <td>648</td>\n",
       "    </tr>\n",
       "    <tr>\n",
       "      <th>8</th>\n",
       "      <td>In</td>\n",
       "      <td>432</td>\n",
       "    </tr>\n",
       "    <tr>\n",
       "      <th>9</th>\n",
       "      <td>html</td>\n",
       "      <td>246</td>\n",
       "    </tr>\n",
       "    <tr>\n",
       "      <th>10</th>\n",
       "      <td>f</td>\n",
       "      <td>216</td>\n",
       "    </tr>\n",
       "    <tr>\n",
       "      <th>11</th>\n",
       "      <td>remove_stopwords</td>\n",
       "      <td>136</td>\n",
       "    </tr>\n",
       "    <tr>\n",
       "      <th>12</th>\n",
       "      <td>pad_sequences</td>\n",
       "      <td>136</td>\n",
       "    </tr>\n",
       "    <tr>\n",
       "      <th>13</th>\n",
       "      <td>normalize_number</td>\n",
       "      <td>136</td>\n",
       "    </tr>\n",
       "    <tr>\n",
       "      <th>14</th>\n",
       "      <td>get_ipython</td>\n",
       "      <td>136</td>\n",
       "    </tr>\n",
       "    <tr>\n",
       "      <th>15</th>\n",
       "      <td>clean_hashtag</td>\n",
       "      <td>136</td>\n",
       "    </tr>\n",
       "    <tr>\n",
       "      <th>16</th>\n",
       "      <td>clean_html</td>\n",
       "      <td>136</td>\n",
       "    </tr>\n",
       "    <tr>\n",
       "      <th>17</th>\n",
       "      <td>path_neologd</td>\n",
       "      <td>112</td>\n",
       "    </tr>\n",
       "    <tr>\n",
       "      <th>18</th>\n",
       "      <td>writer</td>\n",
       "      <td>88</td>\n",
       "    </tr>\n",
       "    <tr>\n",
       "      <th>19</th>\n",
       "      <td>t_mecab</td>\n",
       "      <td>88</td>\n",
       "    </tr>\n",
       "    <tr>\n",
       "      <th>20</th>\n",
       "      <td>janome</td>\n",
       "      <td>80</td>\n",
       "    </tr>\n",
       "    <tr>\n",
       "      <th>21</th>\n",
       "      <td>MeCab</td>\n",
       "      <td>80</td>\n",
       "    </tr>\n",
       "    <tr>\n",
       "      <th>22</th>\n",
       "      <td>tf</td>\n",
       "      <td>80</td>\n",
       "    </tr>\n",
       "    <tr>\n",
       "      <th>23</th>\n",
       "      <td>sys</td>\n",
       "      <td>80</td>\n",
       "    </tr>\n",
       "    <tr>\n",
       "      <th>24</th>\n",
       "      <td>re</td>\n",
       "      <td>80</td>\n",
       "    </tr>\n",
       "    <tr>\n",
       "      <th>25</th>\n",
       "      <td>pd</td>\n",
       "      <td>80</td>\n",
       "    </tr>\n",
       "    <tr>\n",
       "      <th>26</th>\n",
       "      <td>csv</td>\n",
       "      <td>80</td>\n",
       "    </tr>\n",
       "    <tr>\n",
       "      <th>27</th>\n",
       "      <td>np</td>\n",
       "      <td>80</td>\n",
       "    </tr>\n",
       "    <tr>\n",
       "      <th>28</th>\n",
       "      <td>mem_cols</td>\n",
       "      <td>80</td>\n",
       "    </tr>\n",
       "    <tr>\n",
       "      <th>29</th>\n",
       "      <td>json</td>\n",
       "      <td>80</td>\n",
       "    </tr>\n",
       "    <tr>\n",
       "      <th>30</th>\n",
       "      <td>token_filters</td>\n",
       "      <td>72</td>\n",
       "    </tr>\n",
       "    <tr>\n",
       "      <th>31</th>\n",
       "      <td>userdic_word</td>\n",
       "      <td>72</td>\n",
       "    </tr>\n",
       "    <tr>\n",
       "      <th>32</th>\n",
       "      <td>quit</td>\n",
       "      <td>56</td>\n",
       "    </tr>\n",
       "    <tr>\n",
       "      <th>33</th>\n",
       "      <td>exit</td>\n",
       "      <td>56</td>\n",
       "    </tr>\n",
       "    <tr>\n",
       "      <th>34</th>\n",
       "      <td>t</td>\n",
       "      <td>56</td>\n",
       "    </tr>\n",
       "    <tr>\n",
       "      <th>35</th>\n",
       "      <td>a</td>\n",
       "      <td>56</td>\n",
       "    </tr>\n",
       "    <tr>\n",
       "      <th>36</th>\n",
       "      <td>token</td>\n",
       "      <td>56</td>\n",
       "    </tr>\n",
       "    <tr>\n",
       "      <th>37</th>\n",
       "      <td>pyspark</td>\n",
       "      <td>16</td>\n",
       "    </tr>\n",
       "    <tr>\n",
       "      <th>38</th>\n",
       "      <td>m</td>\n",
       "      <td>16</td>\n",
       "    </tr>\n",
       "    <tr>\n",
       "      <th>39</th>\n",
       "      <td>ipywidgets</td>\n",
       "      <td>16</td>\n",
       "    </tr>\n",
       "  </tbody>\n",
       "</table>\n",
       "</div>"
      ],
      "text/plain": [
       "       Variable Name     Memory\n",
       "0               text  186031248\n",
       "1              words  139361088\n",
       "2          stopwords      32992\n",
       "3          memory_df       2088\n",
       "4      BeautifulSoup       2000\n",
       "5            Counter       1056\n",
       "6    NamespaceMagics        888\n",
       "7                Out        648\n",
       "8                 In        432\n",
       "9               html        246\n",
       "10                 f        216\n",
       "11  remove_stopwords        136\n",
       "12     pad_sequences        136\n",
       "13  normalize_number        136\n",
       "14       get_ipython        136\n",
       "15     clean_hashtag        136\n",
       "16        clean_html        136\n",
       "17      path_neologd        112\n",
       "18            writer         88\n",
       "19           t_mecab         88\n",
       "20            janome         80\n",
       "21             MeCab         80\n",
       "22                tf         80\n",
       "23               sys         80\n",
       "24                re         80\n",
       "25                pd         80\n",
       "26               csv         80\n",
       "27                np         80\n",
       "28          mem_cols         80\n",
       "29              json         80\n",
       "30     token_filters         72\n",
       "31      userdic_word         72\n",
       "32              quit         56\n",
       "33              exit         56\n",
       "34                 t         56\n",
       "35                 a         56\n",
       "36             token         56\n",
       "37           pyspark         16\n",
       "38                 m         16\n",
       "39        ipywidgets         16"
      ]
     },
     "metadata": {},
     "output_type": "display_data"
    }
   ],
   "source": [
    "import sys\n",
    "import pandas as pd\n",
    "\n",
    "mem_cols = ['Variable Name', 'Memory']\n",
    "memory_df = pd.DataFrame(columns=mem_cols)\n",
    "\n",
    "for var_name in dir():\n",
    "    if not var_name.startswith(\"_\"):\n",
    "        memory_df = memory_df.append(pd.DataFrame([[var_name, sys.getsizeof(eval(var_name))]], columns=mem_cols))\n",
    "\n",
    "memory_df = memory_df.sort_values(by='Memory', ascending=False).reset_index(drop=True)\n",
    "display(memory_df)"
   ]
  },
  {
   "cell_type": "code",
   "execution_count": 36,
   "metadata": {},
   "outputs": [],
   "source": [
    "del text # release memory"
   ]
  },
  {
   "cell_type": "code",
   "execution_count": 37,
   "metadata": {},
   "outputs": [
    {
     "data": {
      "text/plain": [
       "Counter({'cat': 2, 'dog': 1})"
      ]
     },
     "execution_count": 37,
     "metadata": {},
     "output_type": "execute_result"
    }
   ],
   "source": [
    "Counter([\"cat\", \"dog\", \"cat\"])"
   ]
  },
  {
   "cell_type": "code",
   "execution_count": 38,
   "metadata": {},
   "outputs": [
    {
     "data": {
      "text/plain": [
       "[('の', 828585),\n",
       " ('、', 785716),\n",
       " ('。', 532921),\n",
       " ('に', 527014),\n",
       " ('は', 488009),\n",
       " ('を', 423115),\n",
       " ('た', 421908),\n",
       " ('が', 353221),\n",
       " ('で', 350821),\n",
       " ('て', 259995)]"
      ]
     },
     "execution_count": 38,
     "metadata": {},
     "output_type": "execute_result"
    }
   ],
   "source": [
    "fdist = Counter(words)\n",
    "fdist.most_common(n=10) # top n words"
   ]
  },
  {
   "cell_type": "code",
   "execution_count": 39,
   "metadata": {},
   "outputs": [],
   "source": [
    "del words # release memory !! CAUTION !! fdist will be used below; not neccessary delete fdist"
   ]
  },
  {
   "cell_type": "markdown",
   "metadata": {},
   "source": [
    "抽出された高頻度な単語を`stopwords`として使用可能"
   ]
  },
  {
   "cell_type": "code",
   "execution_count": 40,
   "metadata": {},
   "outputs": [
    {
     "name": "stdout",
     "output_type": "stream",
     "text": [
      "before remove stopwords:  ['りんご', 'を', 'いくつ', 'か', '買う', '。']\n",
      " after remove stopwords:  ['りんご', 'いくつ', 'か', '買う']\n"
     ]
    }
   ],
   "source": [
    "t = janome.tokenizer.Tokenizer(wakati=True)\n",
    "text = \"りんごをいくつか買う。\"\n",
    "words = t.tokenize(text)\n",
    "print(\"before remove stopwords: \", words)\n",
    "words = remove_stopwords(words, np.array(fdist.most_common(n=10))[:,0])\n",
    "print(\" after remove stopwords: \", words)"
   ]
  },
  {
   "cell_type": "markdown",
   "metadata": {
    "toc-hr-collapsed": true,
    "toc-nb-collapsed": true
   },
   "source": [
    "## 単語のID化\n",
    "IDを割り当てた辞書を**ボキャブラリ**と呼んだりなんかしちゃう"
   ]
  },
  {
   "cell_type": "code",
   "execution_count": 41,
   "metadata": {},
   "outputs": [],
   "source": [
    "UNK = \"<UNK>\" # UNKnown;実際に処理する文章に出現する単語がボキャブラリvocabに含まれていないこともあるため、登録しておく単語ID\n",
    "PAD = \"<PAD>\" # PADding\n",
    "vocab = {PAD:0, UNK:1}\n",
    "for word, _ in fdist.most_common():\n",
    "    vocab[word] = len(vocab)"
   ]
  },
  {
   "cell_type": "code",
   "execution_count": 42,
   "metadata": {},
   "outputs": [
    {
     "name": "stdout",
     "output_type": "stream",
     "text": [
      "[1151, 6, 7901]\n"
     ]
    }
   ],
   "source": [
    "words = [\"私\", \"は\", \"元気\"]\n",
    "word_ids = [vocab.get(w, vocab[UNK]) for w in words]\n",
    "print(word_ids)"
   ]
  },
  {
   "cell_type": "markdown",
   "metadata": {
    "toc-hr-collapsed": true,
    "toc-nb-collapsed": true
   },
   "source": [
    "## パディング\n",
    "入力にデータを加えてデータ系列長を合わせること  \n",
    "e.g.)  \n",
    "- [I, love, you] ... 系列長3\n",
    "- [love] ... 系列長1\n",
    "- [love, \\<PAD>, \\<PAD>] ... 系列長3(パディング後)"
   ]
  },
  {
   "cell_type": "code",
   "execution_count": 43,
   "metadata": {},
   "outputs": [
    {
     "name": "stdout",
     "output_type": "stream",
     "text": [
      "dtype;  int32\n",
      "pre-padding; \n",
      " [[0 0 1 2]\n",
      " [0 3 4 5]\n",
      " [6 7 8 9]]\n",
      "post-padding; \n",
      " [[1 2 0 0]\n",
      " [3 4 5 0]\n",
      " [6 7 8 9]]\n",
      "post-padding (specified length = 3, truncuting from pre); \n",
      " [[1 2 0]\n",
      " [3 4 5]\n",
      " [7 8 9]]\n",
      "post-padding (specified length = 3, truncuting from post); \n",
      " [[1 2 0]\n",
      " [3 4 5]\n",
      " [6 7 8]]\n",
      "pre-padding (specified length = 3, truncuting from pre, padding by '10'); \n",
      " [[10  1  2]\n",
      " [ 3  4  5]\n",
      " [ 7  8  9]]\n",
      "post-padding (specified length = 3, truncuting from post, padding by '10'); \n",
      " [[ 1  2 10]\n",
      " [ 3  4  5]\n",
      " [ 6  7  8]]\n"
     ]
    }
   ],
   "source": [
    "sequences = [\n",
    "    [1,2], [3,4,5], [6,7,8,9]\n",
    "]\n",
    "print(\"dtype; \", pad_sequences(sequences).dtype)\n",
    "print(\"pre-padding; \\n\", pad_sequences(sequences))\n",
    "print(\"post-padding; \\n\", pad_sequences(sequences, padding=\"post\"))\n",
    "print(\"post-padding (specified length = 3, truncuting from pre); \\n\", \n",
    "      pad_sequences(sequences, padding=\"post\", maxlen=3))\n",
    "print(\"post-padding (specified length = 3, truncuting from post); \\n\", \n",
    "      pad_sequences(sequences, padding=\"post\", maxlen=3, truncating=\"post\"))\n",
    "print(\"pre-padding (specified length = 3, truncuting from pre, padding by '10'); \\n\", \n",
    "      pad_sequences(sequences, maxlen=3, truncating=\"pre\", value=10))\n",
    "print(\"post-padding (specified length = 3, truncuting from post, padding by '10'); \\n\", \n",
    "      pad_sequences(sequences, padding=\"post\", maxlen=3, truncating=\"post\", value=10))"
   ]
  },
  {
   "cell_type": "markdown",
   "metadata": {},
   "source": [
    "# 前処理の実践\n",
    "データセットの学習と評価（モデルの学習は後の章）"
   ]
  },
  {
   "cell_type": "markdown",
   "metadata": {},
   "source": [
    "<span style=\"color:red\"><b>\n",
    "    ここはscriptを作成した<br>\n",
    "    なお、`Amazon Customer Reviews Dataset - amazon_reviews_multilingual1_JP_v1_00.tsv`は[ここ](http://s3.amazonaws.com/amazon-reviews-pds/tsv/amazon_reviews_multilingual1_JP_v1_00.tsv.gz)からDLした<br>\n",
    "    [サポートサイトのgoogle colab](https://gist.github.com/Hironsan/1f1cc629613cbd7de042a7ce269b91d6)にterminalでDLするためのコードが載っていた\n",
    "    </b></span>"
   ]
  },
  {
   "cell_type": "code",
   "execution_count": 44,
   "metadata": {},
   "outputs": [
    {
     "name": "stdout",
     "output_type": "stream",
     "text": [
      "--2020-05-08 14:17:01--  https://s3.amazonaws.com/amazon-reviews-pds/tsv/amazon_reviews_multilingual_JP_v1_00.tsv.gz\n",
      "Resolving s3.amazonaws.com (s3.amazonaws.com)... 52.216.242.46\n",
      "Connecting to s3.amazonaws.com (s3.amazonaws.com)|52.216.242.46|:443... connected.\n",
      "HTTP request sent, awaiting response... 200 OK\n",
      "Length: 94688992 (90M) [application/x-gzip]\n",
      "Saving to: ‘data/amazon_reviews_multilingual_JP_v1_00.tsv.gz’\n",
      "\n",
      "amazon_reviews_mult 100%[===================>]  90.30M   961KB/s    in 2m 16s  \n",
      "\n",
      "2020-05-08 14:19:18 (681 KB/s) - ‘data/amazon_reviews_multilingual_JP_v1_00.tsv.gz’ saved [94688992/94688992]\n",
      "\n"
     ]
    }
   ],
   "source": [
    "!wget https://s3.amazonaws.com/amazon-reviews-pds/tsv/amazon_reviews_multilingual_JP_v1_00.tsv.gz -P data/\n",
    "!gunzip -d data/amazon_reviews_multilingual_JP_v1_00.tsv.gz"
   ]
  },
  {
   "cell_type": "code",
   "execution_count": 45,
   "metadata": {},
   "outputs": [
    {
     "data": {
      "text/html": [
       "<div>\n",
       "<style scoped>\n",
       "    .dataframe tbody tr th:only-of-type {\n",
       "        vertical-align: middle;\n",
       "    }\n",
       "\n",
       "    .dataframe tbody tr th {\n",
       "        vertical-align: top;\n",
       "    }\n",
       "\n",
       "    .dataframe thead th {\n",
       "        text-align: right;\n",
       "    }\n",
       "</style>\n",
       "<table border=\"1\" class=\"dataframe\">\n",
       "  <thead>\n",
       "    <tr style=\"text-align: right;\">\n",
       "      <th></th>\n",
       "      <th>marketplace</th>\n",
       "      <th>customer_id</th>\n",
       "      <th>review_id</th>\n",
       "      <th>product_id</th>\n",
       "      <th>product_parent</th>\n",
       "      <th>product_title</th>\n",
       "      <th>product_category</th>\n",
       "      <th>star_rating</th>\n",
       "      <th>helpful_votes</th>\n",
       "      <th>total_votes</th>\n",
       "      <th>vine</th>\n",
       "      <th>verified_purchase</th>\n",
       "      <th>review_headline</th>\n",
       "      <th>review_body</th>\n",
       "      <th>review_date</th>\n",
       "    </tr>\n",
       "  </thead>\n",
       "  <tbody>\n",
       "    <tr>\n",
       "      <th>0</th>\n",
       "      <td>JP</td>\n",
       "      <td>65317</td>\n",
       "      <td>R33RSUD4ZTRKT7</td>\n",
       "      <td>B000001GBJ</td>\n",
       "      <td>957145596</td>\n",
       "      <td>SONGS FROM A SECRET GARDE</td>\n",
       "      <td>Music</td>\n",
       "      <td>1</td>\n",
       "      <td>1</td>\n",
       "      <td>15</td>\n",
       "      <td>N</td>\n",
       "      <td>Y</td>\n",
       "      <td>残念ながら…</td>\n",
       "      <td>残念ながら…趣味ではありませんでした。ケルト音楽の範疇にも幅があるのですね…</td>\n",
       "      <td>2012-12-05</td>\n",
       "    </tr>\n",
       "    <tr>\n",
       "      <th>1</th>\n",
       "      <td>JP</td>\n",
       "      <td>65317</td>\n",
       "      <td>R2U1VB8GPZBBEH</td>\n",
       "      <td>B000YPWBQ2</td>\n",
       "      <td>904244932</td>\n",
       "      <td>鏡の中の鏡‾ペルト作品集(SACD)(Arvo Part:Spiegel im Spiegel)</td>\n",
       "      <td>Music</td>\n",
       "      <td>1</td>\n",
       "      <td>4</td>\n",
       "      <td>20</td>\n",
       "      <td>N</td>\n",
       "      <td>Y</td>\n",
       "      <td>残念ながら…</td>\n",
       "      <td>残念ながら…趣味ではありませんでした。正直退屈…眠気も起きない…</td>\n",
       "      <td>2012-12-05</td>\n",
       "    </tr>\n",
       "    <tr>\n",
       "      <th>2</th>\n",
       "      <td>JP</td>\n",
       "      <td>65696</td>\n",
       "      <td>R1IBRCJPPGWVJW</td>\n",
       "      <td>B0002E5O9G</td>\n",
       "      <td>108978277</td>\n",
       "      <td>Les Miserables 10th Anniversary Concert</td>\n",
       "      <td>Music</td>\n",
       "      <td>5</td>\n",
       "      <td>2</td>\n",
       "      <td>3</td>\n",
       "      <td>N</td>\n",
       "      <td>Y</td>\n",
       "      <td>ドリームキャスト</td>\n",
       "      <td>素晴らしいパフォーマンス。ミュージカル映画版の物足りない歌唱とは違います。</td>\n",
       "      <td>2013-03-02</td>\n",
       "    </tr>\n",
       "    <tr>\n",
       "      <th>3</th>\n",
       "      <td>JP</td>\n",
       "      <td>67162</td>\n",
       "      <td>RL02CW5XLYONU</td>\n",
       "      <td>B00004SRJ5</td>\n",
       "      <td>606528497</td>\n",
       "      <td>It Takes a Nation of Millions to Hold Us Back</td>\n",
       "      <td>Music</td>\n",
       "      <td>5</td>\n",
       "      <td>6</td>\n",
       "      <td>9</td>\n",
       "      <td>N</td>\n",
       "      <td>Y</td>\n",
       "      <td>やっぱりマスト</td>\n",
       "      <td>専門的な事を言わずにお勧めレコメを書きたいのですが、文才が無いので無理でした。ヒップホップが...</td>\n",
       "      <td>2013-08-11</td>\n",
       "    </tr>\n",
       "    <tr>\n",
       "      <th>4</th>\n",
       "      <td>JP</td>\n",
       "      <td>67701</td>\n",
       "      <td>R2LA2SS3HU3A3L</td>\n",
       "      <td>B0093H8H8I</td>\n",
       "      <td>509738390</td>\n",
       "      <td>Intel CPU Core I3-3225 3.3GHz 3MBキャッシュ LGA1155...</td>\n",
       "      <td>PC</td>\n",
       "      <td>4</td>\n",
       "      <td>2</td>\n",
       "      <td>4</td>\n",
       "      <td>N</td>\n",
       "      <td>Y</td>\n",
       "      <td>コスパ的には十分</td>\n",
       "      <td>今までの環境（Core2 Duo E4600)に比べれば十分に快適になりました。&lt;br /&gt;...</td>\n",
       "      <td>2013-02-10</td>\n",
       "    </tr>\n",
       "  </tbody>\n",
       "</table>\n",
       "</div>"
      ],
      "text/plain": [
       "  marketplace  customer_id       review_id  product_id  product_parent  \\\n",
       "0          JP        65317  R33RSUD4ZTRKT7  B000001GBJ       957145596   \n",
       "1          JP        65317  R2U1VB8GPZBBEH  B000YPWBQ2       904244932   \n",
       "2          JP        65696  R1IBRCJPPGWVJW  B0002E5O9G       108978277   \n",
       "3          JP        67162   RL02CW5XLYONU  B00004SRJ5       606528497   \n",
       "4          JP        67701  R2LA2SS3HU3A3L  B0093H8H8I       509738390   \n",
       "\n",
       "                                       product_title product_category  \\\n",
       "0                          SONGS FROM A SECRET GARDE            Music   \n",
       "1   鏡の中の鏡‾ペルト作品集(SACD)(Arvo Part:Spiegel im Spiegel)            Music   \n",
       "2            Les Miserables 10th Anniversary Concert            Music   \n",
       "3      It Takes a Nation of Millions to Hold Us Back            Music   \n",
       "4  Intel CPU Core I3-3225 3.3GHz 3MBキャッシュ LGA1155...               PC   \n",
       "\n",
       "   star_rating  helpful_votes  total_votes vine verified_purchase  \\\n",
       "0            1              1           15    N                 Y   \n",
       "1            1              4           20    N                 Y   \n",
       "2            5              2            3    N                 Y   \n",
       "3            5              6            9    N                 Y   \n",
       "4            4              2            4    N                 Y   \n",
       "\n",
       "  review_headline                                        review_body  \\\n",
       "0          残念ながら…             残念ながら…趣味ではありませんでした。ケルト音楽の範疇にも幅があるのですね…   \n",
       "1          残念ながら…                   残念ながら…趣味ではありませんでした。正直退屈…眠気も起きない…   \n",
       "2        ドリームキャスト              素晴らしいパフォーマンス。ミュージカル映画版の物足りない歌唱とは違います。   \n",
       "3         やっぱりマスト  専門的な事を言わずにお勧めレコメを書きたいのですが、文才が無いので無理でした。ヒップホップが...   \n",
       "4        コスパ的には十分  今までの環境（Core2 Duo E4600)に比べれば十分に快適になりました。<br />...   \n",
       "\n",
       "  review_date  \n",
       "0  2012-12-05  \n",
       "1  2012-12-05  \n",
       "2  2013-03-02  \n",
       "3  2013-08-11  \n",
       "4  2013-02-10  "
      ]
     },
     "execution_count": 45,
     "metadata": {},
     "output_type": "execute_result"
    }
   ],
   "source": [
    "import pandas as pd\n",
    "try:\n",
    "    pd.read_csv(\"data/amazon_reviews_multilingual_JP_v1_00.tsv\", delimiter=\"\\t\").head()\n",
    "except FileNotFoundError: \n",
    "    # after file move to src/scripts/chapter04/data\n",
    "    pd.read_csv(\"src/scripts/chapter04/data/amazon_reviews_multilingual_JP_v1_00.tsv\", delimiter=\"\\t\").head()"
   ]
  },
  {
   "cell_type": "code",
   "execution_count": null,
   "metadata": {},
   "outputs": [],
   "source": []
  }
 ],
 "metadata": {
  "kernelspec": {
   "display_name": "Python 3",
   "language": "python",
   "name": "python3"
  },
  "language_info": {
   "codemirror_mode": {
    "name": "ipython",
    "version": 3
   },
   "file_extension": ".py",
   "mimetype": "text/x-python",
   "name": "python",
   "nbconvert_exporter": "python",
   "pygments_lexer": "ipython3",
   "version": "3.7.0"
  },
  "toc-autonumbering": true,
  "toc-showcode": false
 },
 "nbformat": 4,
 "nbformat_minor": 4
}
